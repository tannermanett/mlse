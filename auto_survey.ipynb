{
 "cells": [
  {
   "cell_type": "code",
   "execution_count": 59,
   "metadata": {},
   "outputs": [
    {
     "name": "stderr",
     "output_type": "stream",
     "text": [
      "C:\\Users\\tmanett\\AppData\\Local\\Temp\\ipykernel_5084\\4095333582.py:18: DeprecationWarning: executable_path has been deprecated, please pass in a Service object\n",
      "  driver = webdriver.Chrome(PATH)\n"
     ]
    },
    {
     "name": "stdout",
     "output_type": "stream",
     "text": [
      "Branded Surveys - Get Paid For Sharing Your Opinion\n"
     ]
    }
   ],
   "source": [
    "import pandas as pd\n",
    "import numpy as np\n",
    "import os\n",
    "import time\n",
    "import random\n",
    "\n",
    "# Selenium\n",
    "from selenium import webdriver\n",
    "from selenium.webdriver.common.keys import Keys\n",
    "from selenium.webdriver.support import expected_conditions as EC\n",
    "from selenium.webdriver.common.by import By\n",
    "from selenium.webdriver.support.wait import WebDriverWait\n",
    "from selenium.webdriver.chrome.options import Options as ChromeOptions\n",
    "from selenium.webdriver.common.action_chains import ActionChains\n",
    "\n",
    "# File path to chromedriver\n",
    "PATH = \"C:/Users/tmanett/Desktop/chromedriver.exe\"\n",
    "driver = webdriver.Chrome(PATH)\n",
    "\n",
    "# Get to website\n",
    "driver.get(\"https://surveys.gobranded.com/\")\n",
    "print(driver.title)\n",
    "\n",
    "# Function for delay\n",
    "def delay():\n",
    "    time.sleep(random.randint(2,3))\n",
    "\n",
    "#Consent to enter website\n",
    "consent_button = WebDriverWait(driver, 2).until(EC.element_to_be_clickable((By.XPATH, '//*[@id=\"_evidon-banner-acceptbutton\"]')))\n",
    "\n",
    "# Scroll to the button's location using JavaScript\n",
    "driver.execute_script(\"arguments[0].scrollIntoView();\", consent_button)    \n",
    "\n",
    "# Click the button using JavaScript\n",
    "driver.execute_script(\"arguments[0].click();\", consent_button)   "
   ]
  },
  {
   "attachments": {},
   "cell_type": "markdown",
   "metadata": {},
   "source": [
    "Login"
   ]
  },
  {
   "cell_type": "code",
   "execution_count": 60,
   "metadata": {},
   "outputs": [],
   "source": [
    "delay()\n",
    "\n",
    "login_button = WebDriverWait(driver, 2).until(EC.element_to_be_clickable((By.XPATH, '/html/body/div[1]/div[1]/header/div[2]/div[1]/ul/li[2]/a'))).click()\n",
    "\n",
    "delay()\n",
    "\n",
    "username = WebDriverWait(driver, 10).until(EC.element_to_be_clickable((By.XPATH, '//*[@id=\"UserEmail\"]')))\n",
    "password = WebDriverWait(driver, 10).until(EC.element_to_be_clickable((By.XPATH, '//*[@id=\"UserPassword\"]')))\n",
    "\n",
    "delay()\n",
    "#enter username and password\n",
    "username.clear()\n",
    "username.send_keys(\"matthew.mcconnell.8@gmail.com\")\n",
    "password.clear()\n",
    "password.send_keys(\"Matty-98765432\")\n",
    "\n",
    "delay()\n",
    "\n",
    "# Locate the button element\n",
    "signin_button = WebDriverWait(driver, 10).until(EC.element_to_be_clickable((By.XPATH, '//*[@id=\"UserLoginForm\"]/div[4]/div/div/input'))).click()\n",
    "\n",
    "delay()\n",
    "\n"
   ]
  },
  {
   "cell_type": "code",
   "execution_count": 61,
   "metadata": {},
   "outputs": [],
   "source": [
    "take_survey_redirect = WebDriverWait(driver, 2).until(EC.element_to_be_clickable((By.XPATH, '//*[@id=\"top-surveys\"]/div[1]/div[2]/div/div[3]/a'))).click()"
   ]
  },
  {
   "attachments": {},
   "cell_type": "markdown",
   "metadata": {},
   "source": [
    "Take Survey"
   ]
  },
  {
   "cell_type": "code",
   "execution_count": 62,
   "metadata": {},
   "outputs": [
    {
     "ename": "TimeoutException",
     "evalue": "Message: \nStacktrace:\nBacktrace:\n\tGetHandleVerifier [0x011D8893+48451]\n\t(No symbol) [0x0116B8A1]\n\t(No symbol) [0x01075058]\n\t(No symbol) [0x010A0467]\n\t(No symbol) [0x010A069B]\n\t(No symbol) [0x010CDD92]\n\t(No symbol) [0x010BA304]\n\t(No symbol) [0x010CC482]\n\t(No symbol) [0x010BA0B6]\n\t(No symbol) [0x01097E08]\n\t(No symbol) [0x01098F2D]\n\tGetHandleVerifier [0x01438E3A+2540266]\n\tGetHandleVerifier [0x01478959+2801161]\n\tGetHandleVerifier [0x0147295C+2776588]\n\tGetHandleVerifier [0x01262280+612144]\n\t(No symbol) [0x01174F6C]\n\t(No symbol) [0x011711D8]\n\t(No symbol) [0x011712BB]\n\t(No symbol) [0x01164857]\n\tBaseThreadInitThunk [0x76FF00C9+25]\n\tRtlGetAppContainerNamedObjectPath [0x77167B4E+286]\n\tRtlGetAppContainerNamedObjectPath [0x77167B1E+238]\n",
     "output_type": "error",
     "traceback": [
      "\u001b[1;31m---------------------------------------------------------------------------\u001b[0m",
      "\u001b[1;31mTimeoutException\u001b[0m                          Traceback (most recent call last)",
      "Cell \u001b[1;32mIn[62], line 15\u001b[0m\n\u001b[0;32m     12\u001b[0m         driver\u001b[39m.\u001b[39mswitch_to\u001b[39m.\u001b[39mwindow(window)\n\u001b[0;32m     13\u001b[0m         \u001b[39mbreak\u001b[39;00m\n\u001b[1;32m---> 15\u001b[0m take_survey \u001b[39m=\u001b[39m WebDriverWait(driver, \u001b[39m2\u001b[39;49m)\u001b[39m.\u001b[39;49muntil(EC\u001b[39m.\u001b[39;49melement_to_be_clickable((By\u001b[39m.\u001b[39;49mXPATH, \u001b[39m'\u001b[39;49m\u001b[39m//*[@id=\u001b[39;49m\u001b[39m\"\u001b[39;49m\u001b[39mbtn-continue\u001b[39;49m\u001b[39m\"\u001b[39;49m\u001b[39m]\u001b[39;49m\u001b[39m'\u001b[39;49m)))\u001b[39m.\u001b[39mclick()\n",
      "File \u001b[1;32mc:\\Users\\tmanett\\AppData\\Local\\Programs\\Python\\Python311\\Lib\\site-packages\\selenium\\webdriver\\support\\wait.py:95\u001b[0m, in \u001b[0;36mWebDriverWait.until\u001b[1;34m(self, method, message)\u001b[0m\n\u001b[0;32m     93\u001b[0m     \u001b[39mif\u001b[39;00m time\u001b[39m.\u001b[39mmonotonic() \u001b[39m>\u001b[39m end_time:\n\u001b[0;32m     94\u001b[0m         \u001b[39mbreak\u001b[39;00m\n\u001b[1;32m---> 95\u001b[0m \u001b[39mraise\u001b[39;00m TimeoutException(message, screen, stacktrace)\n",
      "\u001b[1;31mTimeoutException\u001b[0m: Message: \nStacktrace:\nBacktrace:\n\tGetHandleVerifier [0x011D8893+48451]\n\t(No symbol) [0x0116B8A1]\n\t(No symbol) [0x01075058]\n\t(No symbol) [0x010A0467]\n\t(No symbol) [0x010A069B]\n\t(No symbol) [0x010CDD92]\n\t(No symbol) [0x010BA304]\n\t(No symbol) [0x010CC482]\n\t(No symbol) [0x010BA0B6]\n\t(No symbol) [0x01097E08]\n\t(No symbol) [0x01098F2D]\n\tGetHandleVerifier [0x01438E3A+2540266]\n\tGetHandleVerifier [0x01478959+2801161]\n\tGetHandleVerifier [0x0147295C+2776588]\n\tGetHandleVerifier [0x01262280+612144]\n\t(No symbol) [0x01174F6C]\n\t(No symbol) [0x011711D8]\n\t(No symbol) [0x011712BB]\n\t(No symbol) [0x01164857]\n\tBaseThreadInitThunk [0x76FF00C9+25]\n\tRtlGetAppContainerNamedObjectPath [0x77167B4E+286]\n\tRtlGetAppContainerNamedObjectPath [0x77167B1E+238]\n"
     ]
    }
   ],
   "source": [
    "delay()\n",
    "\n",
    "# Get the current window handle (parent window)\n",
    "parent_window = driver.current_window_handle\n",
    "\n",
    "# Get all window handles\n",
    "all_windows = driver.window_handles\n",
    "\n",
    "# Switch to the new tab (latest window handle)\n",
    "for window in all_windows:\n",
    "    if window != parent_window:\n",
    "        driver.switch_to.window(window)\n",
    "        break\n",
    "\n",
    "take_survey = WebDriverWait(driver, 2).until(EC.element_to_be_clickable((By.XPATH, '//*[@id=\"btn-continue\"]'))).click()"
   ]
  },
  {
   "attachments": {},
   "cell_type": "markdown",
   "metadata": {},
   "source": [
    "Consents"
   ]
  },
  {
   "cell_type": "code",
   "execution_count": null,
   "metadata": {},
   "outputs": [
    {
     "name": "stdout",
     "output_type": "stream",
     "text": [
      "                                                   Label\n",
      "Index                                                   \n",
      "0                                  Yes, I own a car/cars\n",
      "1                       Yes, I have access to a car/cars\n",
      "2                        Yes, I lease/have a company car\n",
      "3                       No, I don't have access to a car\n",
      "4                                   Prefer not to answer\n",
      "5                                                    1-5\n",
      "6                                                   6-19\n",
      "7                                                  20-49\n",
      "8                                                  50-99\n",
      "9                                                100-149\n",
      "10                                               150-199\n",
      "11                                               200-250\n",
      "12                                      Greater than 250\n",
      "13                                               500-999\n",
      "14                                           1,000-2,499\n",
      "15                                           2,500-4,999\n",
      "16                                           5,000-9,999\n",
      "17                                         10,000-24,999\n",
      "18                                         25,000-49,999\n",
      "19                                      More than 50,000\n",
      "20                                     None of the above\n",
      "21                                                Female\n",
      "22                                                  Male\n",
      "23                                                 Other\n",
      "24                                  Prefer not to answer\n",
      "25                                      Less than 1 hour\n",
      "26                                          1 to 3 hours\n",
      "27                                         4 to 10 hours\n",
      "28                                        11 to 15 hours\n",
      "29                                        16 to 20 hours\n",
      "30                                        21 to 25 hours\n",
      "31                                    More than 25 hours\n",
      "32                                                  None\n",
      "33                                  Prefer not to answer\n",
      "34     We would like to know about the presence of ch...\n",
      "35     I am pregnant/expecting a child within the nex...\n",
      "36     I have one or more children under the age of 1...\n",
      "37     I have one or more children aged 18 or older l...\n",
      "38     I have no children living in my household and ...\n"
     ]
    }
   ],
   "source": [
    "# Wait for the label elements to be present\n",
    "wait = WebDriverWait(driver, 10)\n",
    "label_elements = wait.until(EC.presence_of_all_elements_located((By.TAG_NAME, \"label\")))\n",
    "\n",
    "# Initialize variables\n",
    "label_texts = []\n",
    "index = 1\n",
    "\n",
    "# Extract the label texts and indices, skipping lines with \"?\"\n",
    "for label_element in label_elements:\n",
    "    label_text = label_element.text\n",
    "    if \"?\" not in label_text:\n",
    "        label_texts.append(label_text)\n",
    "        index += 1\n",
    "\n",
    "# Create a DataFrame from the label texts with indices\n",
    "df = pd.DataFrame(label_texts, columns=[\"Label\"])\n",
    "df.index = range(1, index)\n",
    "\n",
    "# Print the table\n",
    "print(df)"
   ]
  },
  {
   "cell_type": "code",
   "execution_count": null,
   "metadata": {},
   "outputs": [
    {
     "data": {
      "text/html": [
       "<div>\n",
       "<style scoped>\n",
       "    .dataframe tbody tr th:only-of-type {\n",
       "        vertical-align: middle;\n",
       "    }\n",
       "\n",
       "    .dataframe tbody tr th {\n",
       "        vertical-align: top;\n",
       "    }\n",
       "\n",
       "    .dataframe thead th {\n",
       "        text-align: right;\n",
       "    }\n",
       "</style>\n",
       "<table border=\"1\" class=\"dataframe\">\n",
       "  <thead>\n",
       "    <tr style=\"text-align: right;\">\n",
       "      <th></th>\n",
       "      <th>Label</th>\n",
       "    </tr>\n",
       "    <tr>\n",
       "      <th>Index</th>\n",
       "      <th></th>\n",
       "    </tr>\n",
       "  </thead>\n",
       "  <tbody>\n",
       "    <tr>\n",
       "      <th>0</th>\n",
       "      <td>Approximately how many employees work at your ...</td>\n",
       "    </tr>\n",
       "    <tr>\n",
       "      <th>1</th>\n",
       "      <td>1-5</td>\n",
       "    </tr>\n",
       "    <tr>\n",
       "      <th>2</th>\n",
       "      <td>6-19</td>\n",
       "    </tr>\n",
       "    <tr>\n",
       "      <th>3</th>\n",
       "      <td>20-49</td>\n",
       "    </tr>\n",
       "    <tr>\n",
       "      <th>4</th>\n",
       "      <td>50-99</td>\n",
       "    </tr>\n",
       "    <tr>\n",
       "      <th>...</th>\n",
       "      <td>...</td>\n",
       "    </tr>\n",
       "    <tr>\n",
       "      <th>64</th>\n",
       "      <td>2020</td>\n",
       "    </tr>\n",
       "    <tr>\n",
       "      <th>65</th>\n",
       "      <td>2021</td>\n",
       "    </tr>\n",
       "    <tr>\n",
       "      <th>66</th>\n",
       "      <td>2022</td>\n",
       "    </tr>\n",
       "    <tr>\n",
       "      <th>67</th>\n",
       "      <td>2023</td>\n",
       "    </tr>\n",
       "    <tr>\n",
       "      <th>68</th>\n",
       "      <td>I don't own/lease a car</td>\n",
       "    </tr>\n",
       "  </tbody>\n",
       "</table>\n",
       "<p>69 rows × 1 columns</p>\n",
       "</div>"
      ],
      "text/plain": [
       "                                                   Label\n",
       "Index                                                   \n",
       "0      Approximately how many employees work at your ...\n",
       "1                                                    1-5\n",
       "2                                                   6-19\n",
       "3                                                  20-49\n",
       "4                                                  50-99\n",
       "...                                                  ...\n",
       "64                                                  2020\n",
       "65                                                  2021\n",
       "66                                                  2022\n",
       "67                                                  2023\n",
       "68                               I don't own/lease a car\n",
       "\n",
       "[69 rows x 1 columns]"
      ]
     },
     "execution_count": 45,
     "metadata": {},
     "output_type": "execute_result"
    }
   ],
   "source": [
    "df"
   ]
  },
  {
   "cell_type": "code",
   "execution_count": null,
   "metadata": {},
   "outputs": [],
   "source": [
    "# Get the button associated with the 2nd index\n",
    "button_index = 0\n",
    "button_xpath = '//*[@id=\"profiler_3220-{}\"]'\n",
    "\n",
    "button_element = WebDriverWait(driver, 2).until(EC.element_to_be_clickable((By.XPATH, button_xpath.format(button_index)))).click()"
   ]
  }
 ],
 "metadata": {
  "kernelspec": {
   "display_name": "Python 3",
   "language": "python",
   "name": "python3"
  },
  "language_info": {
   "codemirror_mode": {
    "name": "ipython",
    "version": 3
   },
   "file_extension": ".py",
   "mimetype": "text/x-python",
   "name": "python",
   "nbconvert_exporter": "python",
   "pygments_lexer": "ipython3",
   "version": "3.11.3"
  },
  "orig_nbformat": 4
 },
 "nbformat": 4,
 "nbformat_minor": 2
}
