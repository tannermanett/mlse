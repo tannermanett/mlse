{
 "cells": [
  {
   "cell_type": "code",
   "execution_count": 7,
   "metadata": {},
   "outputs": [],
   "source": [
    "from selenium import webdriver\n",
    "from selenium.webdriver.common.keys import Keys\n",
    "from selenium.webdriver.support import expected_conditions as EC\n",
    "from selenium.webdriver.common.by import By\n",
    "from selenium.webdriver.support.wait import WebDriverWait\n",
    "from selenium.webdriver.chrome.options import Options as ChromeOptions\n",
    "\n",
    "import os\n",
    "import time\n",
    "import random\n",
    "\n",
    "import pandas as pd"
   ]
  },
  {
   "cell_type": "code",
   "execution_count": 8,
   "metadata": {},
   "outputs": [
    {
     "name": "stderr",
     "output_type": "stream",
     "text": [
      "C:\\Users\\tmanett\\AppData\\Local\\Temp\\ipykernel_27040\\3221135539.py:1: DeprecationWarning: executable_path has been deprecated, please pass in a Service object\n",
      "  driver = webdriver.Chrome('C:/Users/tmanett/Desktop/chromedriver.exe')\n"
     ]
    }
   ],
   "source": [
    "driver = webdriver.Chrome('C:/Users/tmanett/Desktop/chromedriver.exe')\n",
    "driver.get('https://www.kucoin.com/')\n",
    "\n",
    "def delay():\n",
    "    time.sleep(random.randint(2,3))"
   ]
  },
  {
   "cell_type": "code",
   "execution_count": 9,
   "metadata": {},
   "outputs": [],
   "source": [
    "button = WebDriverWait(driver, 2).until(EC.element_to_be_clickable((By.XPATH, '//*[@id=\"hook_nav_user\"]/div[1]/div[1]/a[1]/div'))).click()\n",
    "delay()"
   ]
  },
  {
   "cell_type": "code",
   "execution_count": 10,
   "metadata": {},
   "outputs": [
    {
     "ename": "TimeoutException",
     "evalue": "Message: \nStacktrace:\nBacktrace:\n\tGetHandleVerifier [0x011D8893+48451]\n\t(No symbol) [0x0116B8A1]\n\t(No symbol) [0x01075058]\n\t(No symbol) [0x010A0467]\n\t(No symbol) [0x010A069B]\n\t(No symbol) [0x010CDD92]\n\t(No symbol) [0x010BA304]\n\t(No symbol) [0x010CC482]\n\t(No symbol) [0x010BA0B6]\n\t(No symbol) [0x01097E08]\n\t(No symbol) [0x01098F2D]\n\tGetHandleVerifier [0x01438E3A+2540266]\n\tGetHandleVerifier [0x01478959+2801161]\n\tGetHandleVerifier [0x0147295C+2776588]\n\tGetHandleVerifier [0x01262280+612144]\n\t(No symbol) [0x01174F6C]\n\t(No symbol) [0x011711D8]\n\t(No symbol) [0x011712BB]\n\t(No symbol) [0x01164857]\n\tBaseThreadInitThunk [0x76FF00C9+25]\n\tRtlGetAppContainerNamedObjectPath [0x77167B4E+286]\n\tRtlGetAppContainerNamedObjectPath [0x77167B1E+238]\n",
     "output_type": "error",
     "traceback": [
      "\u001b[1;31m---------------------------------------------------------------------------\u001b[0m",
      "\u001b[1;31mTimeoutException\u001b[0m                          Traceback (most recent call last)",
      "Cell \u001b[1;32mIn[10], line 12\u001b[0m\n\u001b[0;32m     10\u001b[0m delay()\n\u001b[0;32m     11\u001b[0m button1 \u001b[39m=\u001b[39m WebDriverWait(driver, \u001b[39m2\u001b[39m)\u001b[39m.\u001b[39muntil(EC\u001b[39m.\u001b[39melement_to_be_clickable((By\u001b[39m.\u001b[39mXPATH, \u001b[39m'\u001b[39m\u001b[39m//*[@id=\u001b[39m\u001b[39m\"\u001b[39m\u001b[39mroot\u001b[39m\u001b[39m\"\u001b[39m\u001b[39m]/div/div/div[1]/div/div/div/div/div[2]/div/div[2]/div/div/div[2]/div[2]/form/button\u001b[39m\u001b[39m'\u001b[39m)))\u001b[39m.\u001b[39mclick()\n\u001b[1;32m---> 12\u001b[0m WebDriverWait(driver, \u001b[39m10\u001b[39;49m)\u001b[39m.\u001b[39;49muntil(EC\u001b[39m.\u001b[39;49mframe_to_be_available_and_switch_to_it((By\u001b[39m.\u001b[39;49mXPATH,\u001b[39m\"\u001b[39;49m\u001b[39m//*[\u001b[39;49m\u001b[39m'\u001b[39;49m\u001b[39m@id=recaptcha\u001b[39;49m\u001b[39m'\u001b[39;49m\u001b[39m]/div/div/iframe\u001b[39;49m\u001b[39m\"\u001b[39;49m)))\n\u001b[0;32m     14\u001b[0m delay()\n\u001b[0;32m     15\u001b[0m WebDriverWait(driver, \u001b[39m10\u001b[39m)\u001b[39m.\u001b[39muntil(EC\u001b[39m.\u001b[39melement_to_be_clickable((By\u001b[39m.\u001b[39mXPATH, \u001b[39m\"\u001b[39m\u001b[39m//*[@id=\u001b[39m\u001b[39m'\u001b[39m\u001b[39mrecaptcha-anchor\u001b[39m\u001b[39m'\u001b[39m\u001b[39m]\u001b[39m\u001b[39m\"\u001b[39m)))\u001b[39m.\u001b[39mclick()\n",
      "File \u001b[1;32mc:\\Users\\tmanett\\AppData\\Local\\Programs\\Python\\Python311\\Lib\\site-packages\\selenium\\webdriver\\support\\wait.py:95\u001b[0m, in \u001b[0;36mWebDriverWait.until\u001b[1;34m(self, method, message)\u001b[0m\n\u001b[0;32m     93\u001b[0m     \u001b[39mif\u001b[39;00m time\u001b[39m.\u001b[39mmonotonic() \u001b[39m>\u001b[39m end_time:\n\u001b[0;32m     94\u001b[0m         \u001b[39mbreak\u001b[39;00m\n\u001b[1;32m---> 95\u001b[0m \u001b[39mraise\u001b[39;00m TimeoutException(message, screen, stacktrace)\n",
      "\u001b[1;31mTimeoutException\u001b[0m: Message: \nStacktrace:\nBacktrace:\n\tGetHandleVerifier [0x011D8893+48451]\n\t(No symbol) [0x0116B8A1]\n\t(No symbol) [0x01075058]\n\t(No symbol) [0x010A0467]\n\t(No symbol) [0x010A069B]\n\t(No symbol) [0x010CDD92]\n\t(No symbol) [0x010BA304]\n\t(No symbol) [0x010CC482]\n\t(No symbol) [0x010BA0B6]\n\t(No symbol) [0x01097E08]\n\t(No symbol) [0x01098F2D]\n\tGetHandleVerifier [0x01438E3A+2540266]\n\tGetHandleVerifier [0x01478959+2801161]\n\tGetHandleVerifier [0x0147295C+2776588]\n\tGetHandleVerifier [0x01262280+612144]\n\t(No symbol) [0x01174F6C]\n\t(No symbol) [0x011711D8]\n\t(No symbol) [0x011712BB]\n\t(No symbol) [0x01164857]\n\tBaseThreadInitThunk [0x76FF00C9+25]\n\tRtlGetAppContainerNamedObjectPath [0x77167B4E+286]\n\tRtlGetAppContainerNamedObjectPath [0x77167B1E+238]\n"
     ]
    }
   ],
   "source": [
    "username = WebDriverWait(driver, 10).until(EC.element_to_be_clickable((By.XPATH, '//*[@id=\"account\"]')))\n",
    "password = WebDriverWait(driver, 10).until(EC.element_to_be_clickable((By.XPATH, '//*[@id=\"password\"]')))\n",
    "\n",
    "#enter username and password\n",
    "username.clear()\n",
    "username.send_keys(\"username\")\n",
    "password.clear()\n",
    "password.send_keys(\"password\")\n",
    "\n",
    "delay()\n",
    "button1 = WebDriverWait(driver, 2).until(EC.element_to_be_clickable((By.XPATH, '//*[@id=\"root\"]/div/div/div[1]/div/div/div/div/div[2]/div/div[2]/div/div/div[2]/div[2]/form/button'))).click()\n",
    "WebDriverWait(driver, 10).until(EC.frame_to_be_available_and_switch_to_it((By.XPATH,\"//*['@id=recaptcha']/div/div/iframe\")))\n",
    "\n",
    "delay()\n",
    "WebDriverWait(driver, 10).until(EC.element_to_be_clickable((By.XPATH, \"//*[@id='recaptcha-anchor']\"))).click()\n",
    "delay()"
   ]
  },
  {
   "cell_type": "code",
   "execution_count": null,
   "metadata": {},
   "outputs": [],
   "source": [
    "#recaptcha lib\n",
    "import speech_recognition as sr\n",
    "import ffmpy\n",
    "import requests\n",
    "import urllib\n",
    "from pydub import AudioSegment\n",
    "from os import path\n",
    "import glob"
   ]
  },
  {
   "cell_type": "code",
   "execution_count": null,
   "metadata": {},
   "outputs": [],
   "source": [
    "driver.switch_to.default_content()\n",
    "delay()\n",
    "WebDriverWait(driver, 10).until(EC.frame_to_be_available_and_switch_to_it((By.XPATH,\"/html/body/div[3]/div[4]/iframe\")))\n",
    "WebDriverWait(driver, 10).until(EC.element_to_be_clickable((By.XPATH, \"//*[@id='recaptcha-audio-button']\"))).click()\n",
    "\n",
    "delay()\n",
    "WebDriverWait(driver, 10).until(\n",
    "    EC.presence_of_element_located((By.CSS_SELECTOR, \".rc-audiochallenge-play-button button\")))\n",
    "\n",
    "# get the flac audio file\n",
    "\n",
    "src = driver.find_element_by_id(\"audio-source\").get_attribute(\"src\")\n",
    "\n",
    "urllib.request.urlretrieve(src, \"src.mp3\")"
   ]
  },
  {
   "cell_type": "code",
   "execution_count": null,
   "metadata": {},
   "outputs": [],
   "source": [
    "import os\n",
    "import glob\n",
    "\n",
    "wav_files = glob.glob('./*.mp3')\n",
    "\n",
    "\n",
    "for wav in wav_files:\n",
    "    mp3 = os.path.splitext(wav)[0] + '.flac'\n",
    "    print(mp3)\n",
    "    sound = AudioSegment.from_mp3(wav)\n",
    "    sound.export(mp3, format='flac')"
   ]
  },
  {
   "cell_type": "code",
   "execution_count": null,
   "metadata": {},
   "outputs": [],
   "source": [
    "dst = 'src.flac'\n",
    "\n",
    "r = sr.Recognizer()\n",
    "\n",
    "with sr.AudioFile(dst) as source:\n",
    "    r.adjust_for_ambient_noise(source)\n",
    "    print(\"Analyzing flac\")\n",
    "    audio = r.listen(source)\n",
    "\n",
    "try:\n",
    "    text = r.recognize_google(audio)\n",
    "    print(f'Text: {text}')\n",
    "\n",
    "except Exception as e:\n",
    "    print(e)\n",
    "\n",
    "audiobox = WebDriverWait(driver, 10).until(EC.element_to_be_clickable((By.XPATH, '//*[@id=\"audio-response\"]')))\n",
    "audiobox.send_keys(text)\n",
    "\n",
    "button = WebDriverWait(driver, 2).until(EC.element_to_be_clickable((By.XPATH, '//*[@id=\"recaptcha-verify-button\"]'))).click()"
   ]
  }
 ],
 "metadata": {
  "kernelspec": {
   "display_name": "Python 3",
   "language": "python",
   "name": "python3"
  },
  "language_info": {
   "codemirror_mode": {
    "name": "ipython",
    "version": 3
   },
   "file_extension": ".py",
   "mimetype": "text/x-python",
   "name": "python",
   "nbconvert_exporter": "python",
   "pygments_lexer": "ipython3",
   "version": "3.11.3"
  },
  "orig_nbformat": 4
 },
 "nbformat": 4,
 "nbformat_minor": 2
}
