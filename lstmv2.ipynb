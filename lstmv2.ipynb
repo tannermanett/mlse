{
 "cells": [
  {
   "cell_type": "code",
   "execution_count": 18,
   "metadata": {},
   "outputs": [],
   "source": [
    "import tensorflow as tf\n",
    "import numpy as np\n",
    "from keras.models import Sequential\n",
    "from keras.layers import *\n",
    "from keras.callbacks import ModelCheckpoint\n",
    "from keras.losses import MeanSquaredError\n",
    "from keras.metrics import RootMeanSquaredError\n",
    "from keras.optimizers import Adam\n",
    "import pandas as pd\n",
    "from matplotlib import pyplot as plt\n",
    "from sklearn.preprocessing import StandardScaler\n",
    "import seaborn as sns\n",
    "import os"
   ]
  },
  {
   "attachments": {},
   "cell_type": "markdown",
   "metadata": {},
   "source": [
    "LSTM, short for Long Short-Term Memory, is a type of recurrent neural network (RNN) architecture that is commonly used for sequential data analysis and prediction. It is designed to address the vanishing gradient problem that occurs in traditional RNNs, which makes it difficult for the network to learn long-term dependencies.\n",
    "\n",
    "LSTM networks consist of memory cells that can store information over long periods of time and are equipped with gating mechanisms to control the flow of information. These gates, including the input gate, forget gate, and output gate, enable the network to selectively remember or forget information as it processes sequences of data.\n",
    "\n",
    "To use LSTM for forecasting resale ticket prices, you can follow these steps:\n",
    "\n",
    "Data collection: Gather historical ticket prices along with relevant features such as event type, venue, date, seating section, and any other factors that may impact the ticket price.\n",
    "\n",
    "Data preprocessing: Prepare the data for training by normalizing the numerical features, encoding categorical variables, and splitting the dataset into training and testing sets. It's important to maintain the temporal order of the data.\n",
    "\n",
    "Feature selection: Identify the most relevant features for your forecasting task. This may involve analyzing correlations, conducting feature importance analysis, or using domain knowledge.\n",
    "\n",
    "LSTM model design: Construct an LSTM network architecture suitable for your task. The architecture typically consists of an input layer, one or more LSTM layers, and an output layer. You can experiment with the number of LSTM layers, the number of memory cells, and the activation functions to find the optimal configuration.\n",
    "\n",
    "Model training: Train the LSTM model using the training dataset. During training, the model learns to recognize patterns and dependencies in the historical ticket price data.\n",
    "\n",
    "Model evaluation: Evaluate the trained model using the testing dataset to assess its performance. Common evaluation metrics for regression tasks include mean squared error (MSE), root mean squared error (RMSE), and mean absolute error (MAE).\n",
    "\n",
    "Forecasting: Once the model is trained and evaluated, you can use it to make predictions on new, unseen data. Provide the relevant features for the desired ticket, and the model will generate a forecasted resale price."
   ]
  },
  {
   "cell_type": "code",
   "execution_count": 56,
   "metadata": {},
   "outputs": [
    {
     "name": "stderr",
     "output_type": "stream",
     "text": [
      "C:\\Users\\tmanett\\AppData\\Local\\Temp\\ipykernel_11664\\2113890217.py:2: DtypeWarning: Columns (4) have mixed types. Specify dtype option on import or set low_memory=False.\n",
      "  df = pd.read_csv('C:/Users/tmanett/Desktop/Manifest Optimization/TML Manifest Data.csv')\n"
     ]
    },
    {
     "data": {
      "text/html": [
       "<div>\n",
       "<style scoped>\n",
       "    .dataframe tbody tr th:only-of-type {\n",
       "        vertical-align: middle;\n",
       "    }\n",
       "\n",
       "    .dataframe tbody tr th {\n",
       "        vertical-align: top;\n",
       "    }\n",
       "\n",
       "    .dataframe thead th {\n",
       "        text-align: right;\n",
       "    }\n",
       "</style>\n",
       "<table border=\"1\" class=\"dataframe\">\n",
       "  <thead>\n",
       "    <tr style=\"text-align: right;\">\n",
       "      <th></th>\n",
       "      <th>Unnamed: 0</th>\n",
       "      <th>event_date</th>\n",
       "      <th>event_name</th>\n",
       "      <th>section_name</th>\n",
       "      <th>row_name</th>\n",
       "      <th>seat_num</th>\n",
       "      <th>activity_name</th>\n",
       "      <th>fiscal</th>\n",
       "      <th>tier</th>\n",
       "      <th>def_price_code</th>\n",
       "      <th>...</th>\n",
       "      <th>section_index</th>\n",
       "      <th>row_index</th>\n",
       "      <th>team</th>\n",
       "      <th>price_code_desc</th>\n",
       "      <th>price_diff_perc</th>\n",
       "      <th>price_diff_doll</th>\n",
       "      <th>resale_price</th>\n",
       "      <th>face_value</th>\n",
       "      <th>resale_price_outlier</th>\n",
       "      <th>price_diff_perc_outlier</th>\n",
       "    </tr>\n",
       "    <tr>\n",
       "      <th>event_date</th>\n",
       "      <th></th>\n",
       "      <th></th>\n",
       "      <th></th>\n",
       "      <th></th>\n",
       "      <th></th>\n",
       "      <th></th>\n",
       "      <th></th>\n",
       "      <th></th>\n",
       "      <th></th>\n",
       "      <th></th>\n",
       "      <th></th>\n",
       "      <th></th>\n",
       "      <th></th>\n",
       "      <th></th>\n",
       "      <th></th>\n",
       "      <th></th>\n",
       "      <th></th>\n",
       "      <th></th>\n",
       "      <th></th>\n",
       "      <th></th>\n",
       "      <th></th>\n",
       "    </tr>\n",
       "  </thead>\n",
       "  <tbody>\n",
       "    <tr>\n",
       "      <th>2016-02-18</th>\n",
       "      <td>1</td>\n",
       "      <td>2/18/2016</td>\n",
       "      <td>L160218</td>\n",
       "      <td>101</td>\n",
       "      <td>15</td>\n",
       "      <td>17</td>\n",
       "      <td>TE Resale</td>\n",
       "      <td>F16</td>\n",
       "      <td>5</td>\n",
       "      <td>F</td>\n",
       "      <td>...</td>\n",
       "      <td>0.517241</td>\n",
       "      <td>0.500000</td>\n",
       "      <td>New York Rangers</td>\n",
       "      <td>Light Gold</td>\n",
       "      <td>-0.059406</td>\n",
       "      <td>-12.0</td>\n",
       "      <td>190.0</td>\n",
       "      <td>202</td>\n",
       "      <td>no</td>\n",
       "      <td>no</td>\n",
       "    </tr>\n",
       "    <tr>\n",
       "      <th>2016-02-18</th>\n",
       "      <td>2</td>\n",
       "      <td>2/18/2016</td>\n",
       "      <td>L160218</td>\n",
       "      <td>101</td>\n",
       "      <td>15</td>\n",
       "      <td>18</td>\n",
       "      <td>TE Resale</td>\n",
       "      <td>F16</td>\n",
       "      <td>5</td>\n",
       "      <td>F</td>\n",
       "      <td>...</td>\n",
       "      <td>0.517241</td>\n",
       "      <td>0.529412</td>\n",
       "      <td>New York Rangers</td>\n",
       "      <td>Light Gold</td>\n",
       "      <td>-0.059406</td>\n",
       "      <td>-12.0</td>\n",
       "      <td>190.0</td>\n",
       "      <td>202</td>\n",
       "      <td>no</td>\n",
       "      <td>no</td>\n",
       "    </tr>\n",
       "    <tr>\n",
       "      <th>2016-02-18</th>\n",
       "      <td>3</td>\n",
       "      <td>2/18/2016</td>\n",
       "      <td>L160218</td>\n",
       "      <td>101</td>\n",
       "      <td>9</td>\n",
       "      <td>1</td>\n",
       "      <td>TE Resale</td>\n",
       "      <td>F16</td>\n",
       "      <td>5</td>\n",
       "      <td>C</td>\n",
       "      <td>...</td>\n",
       "      <td>0.310345</td>\n",
       "      <td>0.032258</td>\n",
       "      <td>New York Rangers</td>\n",
       "      <td>Plat Ends</td>\n",
       "      <td>-0.087678</td>\n",
       "      <td>-18.5</td>\n",
       "      <td>192.5</td>\n",
       "      <td>211</td>\n",
       "      <td>no</td>\n",
       "      <td>no</td>\n",
       "    </tr>\n",
       "    <tr>\n",
       "      <th>2016-02-18</th>\n",
       "      <td>4</td>\n",
       "      <td>2/18/2016</td>\n",
       "      <td>L160218</td>\n",
       "      <td>101</td>\n",
       "      <td>9</td>\n",
       "      <td>2</td>\n",
       "      <td>TE Resale</td>\n",
       "      <td>F16</td>\n",
       "      <td>5</td>\n",
       "      <td>C</td>\n",
       "      <td>...</td>\n",
       "      <td>0.310345</td>\n",
       "      <td>0.064516</td>\n",
       "      <td>New York Rangers</td>\n",
       "      <td>Plat Ends</td>\n",
       "      <td>-0.087678</td>\n",
       "      <td>-18.5</td>\n",
       "      <td>192.5</td>\n",
       "      <td>211</td>\n",
       "      <td>no</td>\n",
       "      <td>no</td>\n",
       "    </tr>\n",
       "    <tr>\n",
       "      <th>2016-02-25</th>\n",
       "      <td>5</td>\n",
       "      <td>2/25/2016</td>\n",
       "      <td>L160225</td>\n",
       "      <td>101</td>\n",
       "      <td>27</td>\n",
       "      <td>13</td>\n",
       "      <td>TE Resale</td>\n",
       "      <td>F16</td>\n",
       "      <td>5</td>\n",
       "      <td>I</td>\n",
       "      <td>...</td>\n",
       "      <td>0.931034</td>\n",
       "      <td>0.481481</td>\n",
       "      <td>Carolina Hurricanes</td>\n",
       "      <td>Club Ends</td>\n",
       "      <td>0.235669</td>\n",
       "      <td>37.0</td>\n",
       "      <td>194.0</td>\n",
       "      <td>157</td>\n",
       "      <td>no</td>\n",
       "      <td>no</td>\n",
       "    </tr>\n",
       "    <tr>\n",
       "      <th>...</th>\n",
       "      <td>...</td>\n",
       "      <td>...</td>\n",
       "      <td>...</td>\n",
       "      <td>...</td>\n",
       "      <td>...</td>\n",
       "      <td>...</td>\n",
       "      <td>...</td>\n",
       "      <td>...</td>\n",
       "      <td>...</td>\n",
       "      <td>...</td>\n",
       "      <td>...</td>\n",
       "      <td>...</td>\n",
       "      <td>...</td>\n",
       "      <td>...</td>\n",
       "      <td>...</td>\n",
       "      <td>...</td>\n",
       "      <td>...</td>\n",
       "      <td>...</td>\n",
       "      <td>...</td>\n",
       "      <td>...</td>\n",
       "      <td>...</td>\n",
       "    </tr>\n",
       "    <tr>\n",
       "      <th>2023-04-02</th>\n",
       "      <td>303978</td>\n",
       "      <td>4/2/2023</td>\n",
       "      <td>L230402</td>\n",
       "      <td>118M</td>\n",
       "      <td>24</td>\n",
       "      <td>25</td>\n",
       "      <td>TE Resale</td>\n",
       "      <td>F23</td>\n",
       "      <td>4</td>\n",
       "      <td>H</td>\n",
       "      <td>...</td>\n",
       "      <td>0.857143</td>\n",
       "      <td>1.000000</td>\n",
       "      <td>Detroit Red Wings</td>\n",
       "      <td>Club Sides</td>\n",
       "      <td>0.044369</td>\n",
       "      <td>13.0</td>\n",
       "      <td>306.0</td>\n",
       "      <td>293</td>\n",
       "      <td>no</td>\n",
       "      <td>no</td>\n",
       "    </tr>\n",
       "    <tr>\n",
       "      <th>2023-04-02</th>\n",
       "      <td>303979</td>\n",
       "      <td>4/2/2023</td>\n",
       "      <td>L230402</td>\n",
       "      <td>101</td>\n",
       "      <td>4</td>\n",
       "      <td>3</td>\n",
       "      <td>TE Resale</td>\n",
       "      <td>F23</td>\n",
       "      <td>4</td>\n",
       "      <td>C</td>\n",
       "      <td>...</td>\n",
       "      <td>0.137931</td>\n",
       "      <td>0.107143</td>\n",
       "      <td>Detroit Red Wings</td>\n",
       "      <td>Plat Ends</td>\n",
       "      <td>0.086957</td>\n",
       "      <td>30.0</td>\n",
       "      <td>375.0</td>\n",
       "      <td>345</td>\n",
       "      <td>no</td>\n",
       "      <td>no</td>\n",
       "    </tr>\n",
       "    <tr>\n",
       "      <th>2023-04-02</th>\n",
       "      <td>303980</td>\n",
       "      <td>4/2/2023</td>\n",
       "      <td>L230402</td>\n",
       "      <td>101</td>\n",
       "      <td>4</td>\n",
       "      <td>4</td>\n",
       "      <td>TE Resale</td>\n",
       "      <td>F23</td>\n",
       "      <td>4</td>\n",
       "      <td>C</td>\n",
       "      <td>...</td>\n",
       "      <td>0.137931</td>\n",
       "      <td>0.142857</td>\n",
       "      <td>Detroit Red Wings</td>\n",
       "      <td>Plat Ends</td>\n",
       "      <td>0.086957</td>\n",
       "      <td>30.0</td>\n",
       "      <td>375.0</td>\n",
       "      <td>345</td>\n",
       "      <td>no</td>\n",
       "      <td>no</td>\n",
       "    </tr>\n",
       "    <tr>\n",
       "      <th>2023-04-02</th>\n",
       "      <td>303981</td>\n",
       "      <td>4/2/2023</td>\n",
       "      <td>L230402</td>\n",
       "      <td>319</td>\n",
       "      <td>15</td>\n",
       "      <td>21</td>\n",
       "      <td>TE Resale</td>\n",
       "      <td>F23</td>\n",
       "      <td>4</td>\n",
       "      <td>Q</td>\n",
       "      <td>...</td>\n",
       "      <td>0.789474</td>\n",
       "      <td>0.617647</td>\n",
       "      <td>Detroit Red Wings</td>\n",
       "      <td>Purple</td>\n",
       "      <td>-0.043860</td>\n",
       "      <td>-5.0</td>\n",
       "      <td>109.0</td>\n",
       "      <td>114</td>\n",
       "      <td>no</td>\n",
       "      <td>no</td>\n",
       "    </tr>\n",
       "    <tr>\n",
       "      <th>2023-04-02</th>\n",
       "      <td>303982</td>\n",
       "      <td>4/2/2023</td>\n",
       "      <td>L230402</td>\n",
       "      <td>319</td>\n",
       "      <td>15</td>\n",
       "      <td>22</td>\n",
       "      <td>TE Resale</td>\n",
       "      <td>F23</td>\n",
       "      <td>4</td>\n",
       "      <td>Q</td>\n",
       "      <td>...</td>\n",
       "      <td>0.789474</td>\n",
       "      <td>0.647059</td>\n",
       "      <td>Detroit Red Wings</td>\n",
       "      <td>Purple</td>\n",
       "      <td>-0.043860</td>\n",
       "      <td>-5.0</td>\n",
       "      <td>109.0</td>\n",
       "      <td>114</td>\n",
       "      <td>no</td>\n",
       "      <td>no</td>\n",
       "    </tr>\n",
       "  </tbody>\n",
       "</table>\n",
       "<p>303982 rows × 32 columns</p>\n",
       "</div>"
      ],
      "text/plain": [
       "            Unnamed: 0 event_date event_name section_name row_name  seat_num   \n",
       "event_date                                                                     \n",
       "2016-02-18           1  2/18/2016    L160218          101       15        17  \\\n",
       "2016-02-18           2  2/18/2016    L160218          101       15        18   \n",
       "2016-02-18           3  2/18/2016    L160218          101        9         1   \n",
       "2016-02-18           4  2/18/2016    L160218          101        9         2   \n",
       "2016-02-25           5  2/25/2016    L160225          101       27        13   \n",
       "...                ...        ...        ...          ...      ...       ...   \n",
       "2023-04-02      303978   4/2/2023    L230402         118M       24        25   \n",
       "2023-04-02      303979   4/2/2023    L230402          101        4         3   \n",
       "2023-04-02      303980   4/2/2023    L230402          101        4         4   \n",
       "2023-04-02      303981   4/2/2023    L230402          319       15        21   \n",
       "2023-04-02      303982   4/2/2023    L230402          319       15        22   \n",
       "\n",
       "           activity_name fiscal  tier def_price_code  ...  section_index   \n",
       "event_date                                            ...                  \n",
       "2016-02-18     TE Resale    F16     5              F  ...       0.517241  \\\n",
       "2016-02-18     TE Resale    F16     5              F  ...       0.517241   \n",
       "2016-02-18     TE Resale    F16     5              C  ...       0.310345   \n",
       "2016-02-18     TE Resale    F16     5              C  ...       0.310345   \n",
       "2016-02-25     TE Resale    F16     5              I  ...       0.931034   \n",
       "...                  ...    ...   ...            ...  ...            ...   \n",
       "2023-04-02     TE Resale    F23     4              H  ...       0.857143   \n",
       "2023-04-02     TE Resale    F23     4              C  ...       0.137931   \n",
       "2023-04-02     TE Resale    F23     4              C  ...       0.137931   \n",
       "2023-04-02     TE Resale    F23     4              Q  ...       0.789474   \n",
       "2023-04-02     TE Resale    F23     4              Q  ...       0.789474   \n",
       "\n",
       "           row_index                 team price_code_desc price_diff_perc   \n",
       "event_date                                                                  \n",
       "2016-02-18  0.500000     New York Rangers      Light Gold       -0.059406  \\\n",
       "2016-02-18  0.529412     New York Rangers      Light Gold       -0.059406   \n",
       "2016-02-18  0.032258     New York Rangers       Plat Ends       -0.087678   \n",
       "2016-02-18  0.064516     New York Rangers       Plat Ends       -0.087678   \n",
       "2016-02-25  0.481481  Carolina Hurricanes       Club Ends        0.235669   \n",
       "...              ...                  ...             ...             ...   \n",
       "2023-04-02  1.000000    Detroit Red Wings      Club Sides        0.044369   \n",
       "2023-04-02  0.107143    Detroit Red Wings       Plat Ends        0.086957   \n",
       "2023-04-02  0.142857    Detroit Red Wings       Plat Ends        0.086957   \n",
       "2023-04-02  0.617647    Detroit Red Wings          Purple       -0.043860   \n",
       "2023-04-02  0.647059    Detroit Red Wings          Purple       -0.043860   \n",
       "\n",
       "            price_diff_doll  resale_price face_value  resale_price_outlier   \n",
       "event_date                                                                   \n",
       "2016-02-18            -12.0         190.0        202                    no  \\\n",
       "2016-02-18            -12.0         190.0        202                    no   \n",
       "2016-02-18            -18.5         192.5        211                    no   \n",
       "2016-02-18            -18.5         192.5        211                    no   \n",
       "2016-02-25             37.0         194.0        157                    no   \n",
       "...                     ...           ...        ...                   ...   \n",
       "2023-04-02             13.0         306.0        293                    no   \n",
       "2023-04-02             30.0         375.0        345                    no   \n",
       "2023-04-02             30.0         375.0        345                    no   \n",
       "2023-04-02             -5.0         109.0        114                    no   \n",
       "2023-04-02             -5.0         109.0        114                    no   \n",
       "\n",
       "            price_diff_perc_outlier  \n",
       "event_date                           \n",
       "2016-02-18                       no  \n",
       "2016-02-18                       no  \n",
       "2016-02-18                       no  \n",
       "2016-02-18                       no  \n",
       "2016-02-25                       no  \n",
       "...                             ...  \n",
       "2023-04-02                       no  \n",
       "2023-04-02                       no  \n",
       "2023-04-02                       no  \n",
       "2023-04-02                       no  \n",
       "2023-04-02                       no  \n",
       "\n",
       "[303982 rows x 32 columns]"
      ]
     },
     "execution_count": 56,
     "metadata": {},
     "output_type": "execute_result"
    }
   ],
   "source": [
    "# Load in csv\n",
    "df = pd.read_csv('C:/Users/tmanett/Desktop/Manifest Optimization/TML Manifest Data.csv')\n",
    "df.index = pd.to_datetime(df['event_date'])\n",
    "df"
   ]
  },
  {
   "cell_type": "code",
   "execution_count": 57,
   "metadata": {},
   "outputs": [
    {
     "data": {
      "text/plain": [
       "<Axes: xlabel='event_date'>"
      ]
     },
     "execution_count": 57,
     "metadata": {},
     "output_type": "execute_result"
    },
    {
     "data": {
      "image/png": "[encoded data removed]",
      "text/plain": [
       "<Figure size 640x480 with 1 Axes>"
      ]
     },
     "metadata": {},
     "output_type": "display_data"
    }
   ],
   "source": [
    "temp = df['resale_price']\n",
    "temp.plot()"
   ]
  },
  {
   "cell_type": "code",
   "execution_count": 58,
   "metadata": {},
   "outputs": [],
   "source": [
    "def df_to_X_y (df, window_size = 5):\n",
    "    df_as_np = df.to_numpy()\n",
    "    X = []\n",
    "    y = []\n",
    "\n",
    "    for i in range(len(df_as_np)-window_size):\n",
    "        row = df_as_np[i:i+window_size]\n",
    "        X.append(row)\n",
    "        label = df_as_np[i+5]\n",
    "        y.append(label)\n",
    "\n",
    "    return np.array(X), np.array(y)\n"
   ]
  },
  {
   "cell_type": "code",
   "execution_count": 59,
   "metadata": {},
   "outputs": [
    {
     "data": {
      "text/plain": [
       "((303977, 5, 1), (303977,))"
      ]
     },
     "execution_count": 59,
     "metadata": {},
     "output_type": "execute_result"
    }
   ],
   "source": [
    "WINDOW_SIZE = 5\n",
    "X, y = df_to_X_y(temp, WINDOW_SIZE)\n",
    "X = np.reshape(X, (X.shape[0], X.shape[1], 1))\n",
    "X.shape, y.shape"
   ]
  },
  {
   "cell_type": "code",
   "execution_count": 70,
   "metadata": {},
   "outputs": [
    {
     "data": {
      "text/plain": [
       "((182386, 5, 1), (182386,), (91193, 5, 1), (91193,), (30398, 5, 1), (30398,))"
      ]
     },
     "execution_count": 70,
     "metadata": {},
     "output_type": "execute_result"
    }
   ],
   "source": [
    "total_samples = len(X)\n",
    "\n",
    "train_size = int(0.6 * total_samples)\n",
    "val_size = int(0.3 * total_samples)\n",
    "test_size = total_samples - train_size - val_size\n",
    "\n",
    "X_train, y_train = X[:train_size], y[:train_size]\n",
    "X_val, y_val = X[train_size:train_size+val_size], y[train_size:train_size+val_size]\n",
    "X_test, y_test = X[train_size+val_size:], y[train_size+val_size:]\n",
    "\n",
    "X_train.shape, y_train.shape, X_val.shape, y_val.shape, X_test.shape, y_test.shape"
   ]
  },
  {
   "cell_type": "code",
   "execution_count": 71,
   "metadata": {},
   "outputs": [
    {
     "name": "stdout",
     "output_type": "stream",
     "text": [
      "Model: \"sequential_3\"\n",
      "_________________________________________________________________\n",
      " Layer (type)                Output Shape              Param #   \n",
      "=================================================================\n",
      " lstm_3 (LSTM)               (None, 64)                16896     \n",
      "                                                                 \n",
      " dense_6 (Dense)             (None, 8)                 520       \n",
      "                                                                 \n",
      " dense_7 (Dense)             (None, 1)                 9         \n",
      "                                                                 \n",
      "=================================================================\n",
      "Total params: 17,425\n",
      "Trainable params: 17,425\n",
      "Non-trainable params: 0\n",
      "_________________________________________________________________\n"
     ]
    }
   ],
   "source": [
    "model1 = Sequential()\n",
    "model1.add(InputLayer((5,1)))\n",
    "model1.add(LSTM(64))\n",
    "model1.add(Dense(8, 'relu'))\n",
    "model1.add(Dense(1, 'linear'))\n",
    "\n",
    "model1.summary()"
   ]
  },
  {
   "cell_type": "code",
   "execution_count": 72,
   "metadata": {},
   "outputs": [],
   "source": [
    "cp = ModelCheckpoint('model1/', save_best_only=True)\n",
    "model1.compile(loss=MeanSquaredError(), optimizer=Adam(learning_rate=0.0001), metrics=[RootMeanSquaredError()])"
   ]
  },
  {
   "cell_type": "code",
   "execution_count": 86,
   "metadata": {},
   "outputs": [
    {
     "name": "stdout",
     "output_type": "stream",
     "text": [
      "Epoch 1/10\n",
      "5700/5700 [==============================] - 42s 7ms/step - loss: 4314.6909 - root_mean_squared_error: 65.6863 - val_loss: 5413.0771 - val_root_mean_squared_error: 73.5736\n",
      "Epoch 2/10\n",
      "5694/5700 [============================>.] - ETA: 0s - loss: 4296.8569 - root_mean_squared_error: 65.5504"
     ]
    },
    {
     "name": "stderr",
     "output_type": "stream",
     "text": [
      "WARNING:absl:Found untraced functions such as lstm_cell_11_layer_call_fn, lstm_cell_11_layer_call_and_return_conditional_losses while saving (showing 2 of 2). These functions will not be directly callable after loading.\n"
     ]
    },
    {
     "name": "stdout",
     "output_type": "stream",
     "text": [
      "INFO:tensorflow:Assets written to: model1\\assets\n"
     ]
    },
    {
     "name": "stderr",
     "output_type": "stream",
     "text": [
      "INFO:tensorflow:Assets written to: model1\\assets\n"
     ]
    },
    {
     "name": "stdout",
     "output_type": "stream",
     "text": [
      "5700/5700 [==============================] - 44s 8ms/step - loss: 4296.3398 - root_mean_squared_error: 65.5465 - val_loss: 5328.0854 - val_root_mean_squared_error: 72.9937\n",
      "Epoch 3/10\n",
      "5700/5700 [==============================] - 40s 7ms/step - loss: 4283.3804 - root_mean_squared_error: 65.4475 - val_loss: 5392.4829 - val_root_mean_squared_error: 73.4335\n",
      "Epoch 4/10\n",
      "5698/5700 [============================>.] - ETA: 0s - loss: 4273.7690 - root_mean_squared_error: 65.3741"
     ]
    },
    {
     "name": "stderr",
     "output_type": "stream",
     "text": [
      "WARNING:absl:Found untraced functions such as lstm_cell_11_layer_call_fn, lstm_cell_11_layer_call_and_return_conditional_losses while saving (showing 2 of 2). These functions will not be directly callable after loading.\n"
     ]
    },
    {
     "name": "stdout",
     "output_type": "stream",
     "text": [
      "INFO:tensorflow:Assets written to: model1\\assets\n"
     ]
    },
    {
     "name": "stderr",
     "output_type": "stream",
     "text": [
      "INFO:tensorflow:Assets written to: model1\\assets\n"
     ]
    },
    {
     "name": "stdout",
     "output_type": "stream",
     "text": [
      "5700/5700 [==============================] - 45s 8ms/step - loss: 4273.3589 - root_mean_squared_error: 65.3709 - val_loss: 5321.2827 - val_root_mean_squared_error: 72.9471\n",
      "Epoch 5/10\n",
      "5700/5700 [==============================] - 40s 7ms/step - loss: 4276.3564 - root_mean_squared_error: 65.3939 - val_loss: 5351.9502 - val_root_mean_squared_error: 73.1570\n",
      "Epoch 6/10\n",
      "5694/5700 [============================>.] - ETA: 0s - loss: 4269.3901 - root_mean_squared_error: 65.3406"
     ]
    },
    {
     "name": "stderr",
     "output_type": "stream",
     "text": [
      "WARNING:absl:Found untraced functions such as lstm_cell_11_layer_call_fn, lstm_cell_11_layer_call_and_return_conditional_losses while saving (showing 2 of 2). These functions will not be directly callable after loading.\n"
     ]
    },
    {
     "name": "stdout",
     "output_type": "stream",
     "text": [
      "INFO:tensorflow:Assets written to: model1\\assets\n"
     ]
    },
    {
     "name": "stderr",
     "output_type": "stream",
     "text": [
      "INFO:tensorflow:Assets written to: model1\\assets\n"
     ]
    },
    {
     "name": "stdout",
     "output_type": "stream",
     "text": [
      "5700/5700 [==============================] - 45s 8ms/step - loss: 4267.3301 - root_mean_squared_error: 65.3248 - val_loss: 5288.5566 - val_root_mean_squared_error: 72.7225\n",
      "Epoch 7/10\n",
      "5693/5700 [============================>.] - ETA: 0s - loss: 4249.9819 - root_mean_squared_error: 65.1919"
     ]
    },
    {
     "name": "stderr",
     "output_type": "stream",
     "text": [
      "WARNING:absl:Found untraced functions such as lstm_cell_11_layer_call_fn, lstm_cell_11_layer_call_and_return_conditional_losses while saving (showing 2 of 2). These functions will not be directly callable after loading.\n"
     ]
    },
    {
     "name": "stdout",
     "output_type": "stream",
     "text": [
      "INFO:tensorflow:Assets written to: model1\\assets\n"
     ]
    },
    {
     "name": "stderr",
     "output_type": "stream",
     "text": [
      "INFO:tensorflow:Assets written to: model1\\assets\n"
     ]
    },
    {
     "name": "stdout",
     "output_type": "stream",
     "text": [
      "5700/5700 [==============================] - 48s 8ms/step - loss: 4250.0381 - root_mean_squared_error: 65.1923 - val_loss: 5269.3813 - val_root_mean_squared_error: 72.5905\n",
      "Epoch 8/10\n",
      "5700/5700 [==============================] - 42s 7ms/step - loss: 4257.8877 - root_mean_squared_error: 65.2525 - val_loss: 5336.3389 - val_root_mean_squared_error: 73.0502\n",
      "Epoch 9/10\n",
      "5694/5700 [============================>.] - ETA: 0s - loss: 4233.7109 - root_mean_squared_error: 65.0670"
     ]
    },
    {
     "name": "stderr",
     "output_type": "stream",
     "text": [
      "WARNING:absl:Found untraced functions such as lstm_cell_11_layer_call_fn, lstm_cell_11_layer_call_and_return_conditional_losses while saving (showing 2 of 2). These functions will not be directly callable after loading.\n"
     ]
    },
    {
     "name": "stdout",
     "output_type": "stream",
     "text": [
      "INFO:tensorflow:Assets written to: model1\\assets\n"
     ]
    },
    {
     "name": "stderr",
     "output_type": "stream",
     "text": [
      "INFO:tensorflow:Assets written to: model1\\assets\n"
     ]
    },
    {
     "name": "stdout",
     "output_type": "stream",
     "text": [
      "5700/5700 [==============================] - 47s 8ms/step - loss: 4246.4771 - root_mean_squared_error: 65.1650 - val_loss: 5234.7192 - val_root_mean_squared_error: 72.3514\n",
      "Epoch 10/10\n",
      "5700/5700 [==============================] - 42s 7ms/step - loss: 4239.0376 - root_mean_squared_error: 65.1079 - val_loss: 5363.1357 - val_root_mean_squared_error: 73.2334\n"
     ]
    }
   ],
   "source": [
    "history = model1.fit(X_train, y_train, validation_data=(X_val, y_val), epochs=10, callbacks=[cp])"
   ]
  },
  {
   "cell_type": "code",
   "execution_count": 74,
   "metadata": {},
   "outputs": [
    {
     "name": "stdout",
     "output_type": "stream",
     "text": [
      "Minimum price: 5.0\n",
      "Maximum price: 2780.0\n"
     ]
    }
   ],
   "source": [
    "# Calculate the minimum and maximum resale prices\n",
    "min_price = np.min(df['resale_price'])\n",
    "max_price = np.max(df['resale_price'])\n",
    "\n",
    "# Print the range of resale prices\n",
    "print(\"Minimum price:\", min_price)\n",
    "print(\"Maximum price:\", max_price)"
   ]
  },
  {
   "cell_type": "code",
   "execution_count": 87,
   "metadata": {},
   "outputs": [
    {
     "name": "stdout",
     "output_type": "stream",
     "text": [
      "5700/5700 [==============================] - 17s 3ms/step\n"
     ]
    },
    {
     "data": {
      "text/html": [
       "<div>\n",
       "<style scoped>\n",
       "    .dataframe tbody tr th:only-of-type {\n",
       "        vertical-align: middle;\n",
       "    }\n",
       "\n",
       "    .dataframe tbody tr th {\n",
       "        vertical-align: top;\n",
       "    }\n",
       "\n",
       "    .dataframe thead th {\n",
       "        text-align: right;\n",
       "    }\n",
       "</style>\n",
       "<table border=\"1\" class=\"dataframe\">\n",
       "  <thead>\n",
       "    <tr style=\"text-align: right;\">\n",
       "      <th></th>\n",
       "      <th>Train Predictions</th>\n",
       "      <th>Actuals</th>\n",
       "    </tr>\n",
       "  </thead>\n",
       "  <tbody>\n",
       "    <tr>\n",
       "      <th>0</th>\n",
       "      <td>197.844284</td>\n",
       "      <td>194.0</td>\n",
       "    </tr>\n",
       "    <tr>\n",
       "      <th>1</th>\n",
       "      <td>196.561340</td>\n",
       "      <td>194.0</td>\n",
       "    </tr>\n",
       "    <tr>\n",
       "      <th>2</th>\n",
       "      <td>197.910782</td>\n",
       "      <td>194.0</td>\n",
       "    </tr>\n",
       "    <tr>\n",
       "      <th>3</th>\n",
       "      <td>197.589432</td>\n",
       "      <td>660.0</td>\n",
       "    </tr>\n",
       "    <tr>\n",
       "      <th>4</th>\n",
       "      <td>677.592773</td>\n",
       "      <td>660.0</td>\n",
       "    </tr>\n",
       "    <tr>\n",
       "      <th>...</th>\n",
       "      <td>...</td>\n",
       "      <td>...</td>\n",
       "    </tr>\n",
       "    <tr>\n",
       "      <th>182381</th>\n",
       "      <td>180.639343</td>\n",
       "      <td>117.0</td>\n",
       "    </tr>\n",
       "    <tr>\n",
       "      <th>182382</th>\n",
       "      <td>118.517761</td>\n",
       "      <td>117.0</td>\n",
       "    </tr>\n",
       "    <tr>\n",
       "      <th>182383</th>\n",
       "      <td>150.381668</td>\n",
       "      <td>230.0</td>\n",
       "    </tr>\n",
       "    <tr>\n",
       "      <th>182384</th>\n",
       "      <td>228.967926</td>\n",
       "      <td>230.0</td>\n",
       "    </tr>\n",
       "    <tr>\n",
       "      <th>182385</th>\n",
       "      <td>185.175888</td>\n",
       "      <td>225.0</td>\n",
       "    </tr>\n",
       "  </tbody>\n",
       "</table>\n",
       "<p>182386 rows × 2 columns</p>\n",
       "</div>"
      ],
      "text/plain": [
       "        Train Predictions  Actuals\n",
       "0              197.844284    194.0\n",
       "1              196.561340    194.0\n",
       "2              197.910782    194.0\n",
       "3              197.589432    660.0\n",
       "4              677.592773    660.0\n",
       "...                   ...      ...\n",
       "182381         180.639343    117.0\n",
       "182382         118.517761    117.0\n",
       "182383         150.381668    230.0\n",
       "182384         228.967926    230.0\n",
       "182385         185.175888    225.0\n",
       "\n",
       "[182386 rows x 2 columns]"
      ]
     },
     "execution_count": 87,
     "metadata": {},
     "output_type": "execute_result"
    }
   ],
   "source": [
    "from keras.models import load_model\n",
    "model1 = load_model('model1/')\n",
    "\n",
    "train_predictions = model1.predict(X_train).flatten()\n",
    "train_results = pd.DataFrame(data={'Train Predictions': train_predictions, 'Actuals': y_train})\n",
    "train_results"
   ]
  },
  {
   "cell_type": "code",
   "execution_count": 88,
   "metadata": {},
   "outputs": [
    {
     "data": {
      "image/png": "[encoded data removed]",
      "text/plain": [
       "<Figure size 640x480 with 1 Axes>"
      ]
     },
     "metadata": {},
     "output_type": "display_data"
    }
   ],
   "source": [
    "#plt.plot(train_results['Train Predictions'][:200])\n",
    "#plt.plot(train_results['Actuals'][:200])\n",
    "\n",
    "# Zooming in to the last 200 observations\n",
    "last_200_train_results = train_results.tail(200)\n",
    "\n",
    "# Plotting train predictions and actual values for the last 200 observations\n",
    "plt.plot(last_200_train_results.index, last_200_train_results['Train Predictions'], label='Train Predictions')\n",
    "plt.plot(last_200_train_results.index, last_200_train_results['Actuals'], label='Actuals')\n",
    "plt.xlabel('Time')\n",
    "plt.ylabel('Ticket Price')\n",
    "plt.title('Train Predictions vs Actuals (Last 200 Observations)')\n",
    "plt.legend()\n",
    "plt.show()"
   ]
  },
  {
   "cell_type": "code",
   "execution_count": 89,
   "metadata": {},
   "outputs": [
    {
     "data": {
      "image/png": "[encoded data removed]",
      "text/plain": [
       "<Figure size 640x480 with 1 Axes>"
      ]
     },
     "metadata": {},
     "output_type": "display_data"
    }
   ],
   "source": [
    "# Get the training and validation loss values\n",
    "train_loss = history.history['loss']\n",
    "val_loss = history.history['val_loss']\n",
    "\n",
    "# Create an array of epochs\n",
    "epochs = range(1, len(train_loss) + 1)\n",
    "\n",
    "# Plot the training and validation loss\n",
    "plt.plot(epochs, train_loss, 'b', label='Training Loss')\n",
    "plt.plot(epochs, val_loss, 'r', label='Validation Loss')\n",
    "plt.title('Training and Validation Loss')\n",
    "plt.xlabel('Epochs')\n",
    "plt.ylabel('Loss')\n",
    "plt.legend()\n",
    "plt.show()"
   ]
  },
  {
   "cell_type": "code",
   "execution_count": 90,
   "metadata": {},
   "outputs": [
    {
     "name": "stdout",
     "output_type": "stream",
     "text": [
      "Training Loss: [4314.69091796875, 4296.33984375, 4283.38037109375, 4273.35888671875, 4276.3564453125, 4267.330078125, 4250.0380859375, 4257.8876953125, 4246.47705078125, 4239.03759765625]\n",
      "Validation Loss: [5413.0771484375, 5328.08544921875, 5392.48291015625, 5321.28271484375, 5351.9501953125, 5288.556640625, 5269.38134765625, 5336.3388671875, 5234.71923828125, 5363.1357421875]\n"
     ]
    }
   ],
   "source": [
    "print(\"Training Loss:\", train_loss)\n",
    "print(\"Validation Loss:\", val_loss)"
   ]
  }
 ],
 "metadata": {
  "kernelspec": {
   "display_name": "Python 3",
   "language": "python",
   "name": "python3"
  },
  "language_info": {
   "codemirror_mode": {
    "name": "ipython",
    "version": 3
   },
   "file_extension": ".py",
   "mimetype": "text/x-python",
   "name": "python",
   "nbconvert_exporter": "python",
   "pygments_lexer": "ipython3",
   "version": "3.11.3"
  },
  "orig_nbformat": 4
 },
 "nbformat": 4,
 "nbformat_minor": 2
}
