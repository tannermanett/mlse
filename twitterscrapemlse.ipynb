{
 "cells": [
  {
   "cell_type": "code",
   "execution_count": 27,
   "metadata": {},
   "outputs": [],
   "source": [
    "import tweepy\n",
    "import config\n",
    "import pandas as pd\n",
    "\n",
    "\n",
    "client = tweepy.Client(bearer_token='AAAAAAAAAAAAAAAAAAAAALcJbwEAAAAA21pZjobSbMw7WSZ4mBoB5pIRAGk%3DyFa5K3UyQS5O8bRxGW7wzkMIkKFFGCufRASgRtKJVmr3YSh0wx', consumer_key='qpNkHqB8wo1vxOqkcyOWMErxi', consumer_secret='OkxGlWZ7vlNPpxbCZjjx317LCwVKcqMiJlzlSuuKECHbz4dVZQ', access_token='3865157592-H0hVEu5b8SUxEe1q7NznL4sfUPZooDMTyZOeuN1', access_token_secret='CROZTjw9TVisdlHBzAKiXcd6ZPll3gpKk9odfB9M5OqB3')\n",
    "    \n",
    "\n",
    "query = 'mapleleafs'\n",
    "\n",
    "parleh_tweets = []\n",
    "for response in tweepy.Paginator(client.get_users_tweets, \n",
    "                                 id='55594930',\n",
    "                                 user_fields = ['username', 'public_metrics', 'description', 'location'],\n",
    "                                 tweet_fields = ['created_at', 'geo', 'public_metrics', 'text'],\n",
    "                                 expansions = ['author_id', 'attachments.media_keys'],\n",
    "                                 media_fields = ['media_key','duration_ms','public_metrics'],\n",
    "                                 \n",
    "                                 max_results = 100):\n",
    "   \n",
    "    parleh_tweets.append(response)"
   ]
  },
  {
   "cell_type": "code",
   "execution_count": 28,
   "metadata": {},
   "outputs": [],
   "source": [
    "bd = []\n",
    "user_dict = {}\n",
    "views_dict = {}\n",
    "# Loop through each response object\n",
    "for response in parleh_tweets:\n",
    "    # Take all of the users, and put them into a dictionary of dictionaries with the info we want to keep\n",
    "    for user in response.includes['users']:\n",
    "        user_dict[user.id] = {'username': user.username, \n",
    "                              'followers': user.public_metrics['followers_count'],\n",
    "                              'tweets': user.public_metrics['tweet_count'],\n",
    "                              'description': user.description,\n",
    "                              'location': user.location\n",
    "                             }\n",
    " \n",
    "\n",
    "    for tweet in response.data:\n",
    "        # For each tweet, find the author's information\n",
    "        author_info = user_dict[tweet.author_id]\n",
    "  # Check if the tweet has any referenced tweets\n",
    "        \n",
    "        \n",
    "        # Put all of the information we want to keep in a single dictionary for each tweet\n",
    "        bd.append({'author_id': tweet.author_id, \n",
    "                       'username': author_info['username'],\n",
    "                       'author_followers': author_info['followers'],\n",
    "                       'author_tweets': author_info['tweets'],\n",
    "                       'author_description': author_info['description'],\n",
    "                       'author_location': author_info['location'],\n",
    "                       'text': tweet.text,\n",
    "                       'created_at': tweet.created_at,\n",
    "                       'retweets': tweet.public_metrics['retweet_count'],\n",
    "                       'replies': tweet.public_metrics['reply_count'],\n",
    "                       'likes': tweet.public_metrics['like_count'],\n",
    "                       \n",
    "                      })\n",
    "    \n",
    "   \n",
    "\n",
    "        \n",
    "        \n",
    "\n",
    "# Change this list of dictionaries into a dataframe"
   ]
  },
  {
   "cell_type": "code",
   "execution_count": 29,
   "metadata": {},
   "outputs": [],
   "source": [
    "df1 = pd.DataFrame(bd)\n",
    "df1.to_csv('leafs.csv')"
   ]
  },
  {
   "cell_type": "code",
   "execution_count": null,
   "metadata": {},
   "outputs": [],
   "source": []
  }
 ],
 "metadata": {
  "kernelspec": {
   "display_name": "Python 3",
   "language": "python",
   "name": "python3"
  },
  "language_info": {
   "codemirror_mode": {
    "name": "ipython",
    "version": 3
   },
   "file_extension": ".py",
   "mimetype": "text/x-python",
   "name": "python",
   "nbconvert_exporter": "python",
   "pygments_lexer": "ipython3",
   "version": "3.11.3"
  },
  "orig_nbformat": 4
 },
 "nbformat": 4,
 "nbformat_minor": 2
}
