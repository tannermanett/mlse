{
 "cells": [
  {
   "cell_type": "code",
   "execution_count": 2,
   "metadata": {},
   "outputs": [],
   "source": [
    "import pandas as pd\n",
    "import requests\n",
    "import time\n",
    "import numpy as np\n",
    "from requests.exceptions import HTTPError\n",
    "import io\n",
    "from bs4 import BeautifulSoup\n",
    "import json\n",
    "\n",
    "pd.set_option('display.max_columns', None) # all columns will be visible in dataframetest_url "
   ]
  },
  {
   "cell_type": "markdown",
   "metadata": {},
   "source": [
    "### **Playoffs Data from Moneypuck.com - 2023-2009**"
   ]
  },
  {
   "cell_type": "markdown",
   "metadata": {},
   "source": [
    "Function Inputs"
   ]
  },
  {
   "cell_type": "code",
   "execution_count": 3,
   "metadata": {},
   "outputs": [],
   "source": [
    "mp_playoffs_skaters_url = 'https://moneypuck.com/moneypuck/playerData/seasonSummary/{}/playoffs/skaters.csv' # Define the base URL with a placeholder '{}' for the year\n",
    "start_year = 2009  # Replace this with the starting year\n",
    "current_year = 2022  # Replace this with the current year\n",
    "\n",
    "playoff_skater_data = {} # Dictionary to store DataFrames for each year"
   ]
  },
  {
   "cell_type": "markdown",
   "metadata": {},
   "source": [
    "***Status Codes***\n",
    "\n",
    "200 OK status means that your request was successful, whereas a 404 NOT FOUND status means that the resource you were looking for was not found"
   ]
  },
  {
   "cell_type": "code",
   "execution_count": 4,
   "metadata": {},
   "outputs": [],
   "source": [
    "def retrieve_mp_skater_data(current_year, start_year, base_url, data):\n",
    "    # Loop through each year from the current year to the start year (inclusive)\n",
    "    for year in range(current_year, start_year - 1, -1):\n",
    "\n",
    "        url = base_url.format(year)   # Construct the URL for the current year by replacing the placeholder with the current year\n",
    "\n",
    "        try:\n",
    "            r = requests.get(url) # GET request\n",
    "\n",
    "            # If the response was successful, no Exception will be raised\n",
    "            r.raise_for_status()\n",
    "\n",
    "            # Read the data into a DataFrame\n",
    "            df = pd.read_csv(io.StringIO(r.text))\n",
    "\n",
    "            # Store the DataFrame in the dictionary with the year as the key\n",
    "            data[year] = df\n",
    "\n",
    "        except HTTPError as http_err:\n",
    "            print(f'HTTP error occurred: {http_err}') # Handle HTTP errors (e.g., if the server returns an error status code)\n",
    "        except Exception as err:\n",
    "            print(f'Other error occurred: {err}')  # Handle other general exceptions\n",
    "        else:\n",
    "            print('Success!') # If no exceptions occurred during the try block, print 'Success!'\n",
    "    "
   ]
  },
  {
   "cell_type": "code",
   "execution_count": 5,
   "metadata": {},
   "outputs": [
    {
     "name": "stdout",
     "output_type": "stream",
     "text": [
      "Success!\n",
      "Success!\n",
      "Success!\n",
      "Success!\n",
      "Success!\n",
      "Success!\n",
      "Success!\n",
      "Success!\n",
      "Success!\n",
      "Success!\n",
      "Success!\n",
      "Success!\n",
      "Success!\n",
      "Success!\n"
     ]
    }
   ],
   "source": [
    "retrieve_mp_skater_data(current_year, start_year, mp_playoffs_skaters_url, playoff_skater_data)"
   ]
  },
  {
   "cell_type": "markdown",
   "metadata": {},
   "source": [
    "### **Regular Season Data from Moneypuck.com - 2023-2009**"
   ]
  },
  {
   "cell_type": "code",
   "execution_count": 6,
   "metadata": {},
   "outputs": [],
   "source": [
    "mp_regular_skaters_url = 'https://moneypuck.com/moneypuck/playerData/seasonSummary/{}/regular/skaters.csv' # Define the base URL with a placeholder '{}' for the year\n",
    "\n",
    "regular_skater_data = {} # Dictionary to store DataFrames for each year"
   ]
  },
  {
   "cell_type": "code",
   "execution_count": 7,
   "metadata": {},
   "outputs": [
    {
     "name": "stdout",
     "output_type": "stream",
     "text": [
      "Success!\n",
      "Success!\n",
      "Success!\n",
      "Success!\n",
      "Success!\n",
      "Success!\n",
      "Success!\n",
      "Success!\n",
      "Success!\n",
      "Success!\n",
      "Success!\n",
      "Success!\n",
      "Success!\n",
      "Success!\n"
     ]
    }
   ],
   "source": [
    "retrieve_mp_skater_data(current_year, start_year, mp_regular_skaters_url, regular_skater_data)"
   ]
  },
  {
   "cell_type": "markdown",
   "metadata": {},
   "source": [
    "### **NHL Demographics Data from Moneypuck.com - 2023-2009**"
   ]
  },
  {
   "cell_type": "code",
   "execution_count": 10,
   "metadata": {},
   "outputs": [
    {
     "name": "stdout",
     "output_type": "stream",
     "text": [
      "Success!\n"
     ]
    },
    {
     "ename": "KeyError",
     "evalue": "2020",
     "output_type": "error",
     "traceback": [
      "\u001b[1;31m---------------------------------------------------------------------------\u001b[0m",
      "\u001b[1;31mKeyError\u001b[0m                                  Traceback (most recent call last)",
      "Cell \u001b[1;32mIn[10], line 24\u001b[0m\n\u001b[0;32m     21\u001b[0m \u001b[39m# Store DataFrame in the dictionary with \"playerId\" as the key\u001b[39;00m\n\u001b[0;32m     22\u001b[0m player_general_database \u001b[39m=\u001b[39m {player_id: player_data \u001b[39mfor\u001b[39;00m player_id, player_data \u001b[39min\u001b[39;00m \u001b[39mzip\u001b[39m(df[\u001b[39m'\u001b[39m\u001b[39mname\u001b[39m\u001b[39m'\u001b[39m], df\u001b[39m.\u001b[39mto_dict(orient\u001b[39m=\u001b[39m\u001b[39m'\u001b[39m\u001b[39mrecords\u001b[39m\u001b[39m'\u001b[39m))}\n\u001b[1;32m---> 24\u001b[0m player_general_database[\u001b[39m2020\u001b[39;49m]\n",
      "\u001b[1;31mKeyError\u001b[0m: 2020"
     ]
    }
   ],
   "source": [
    "all_players_url = 'https://moneypuck.com/moneypuck/playerData/playerBios/allPlayersLookup.csv'\n",
    "\n",
    "player_general_database = {}\n",
    "\n",
    "try:\n",
    "            r = requests.get(all_players_url) # GET request\n",
    "\n",
    "            # If the response was successful, no Exception will be raised\n",
    "            r.raise_for_status()\n",
    "\n",
    "            # Read the data into a DataFrame\n",
    "            df = pd.read_csv(io.StringIO(r.text))\n",
    "\n",
    "except HTTPError as http_err:\n",
    "            print(f'HTTP error occurred: {http_err}') # Handle HTTP errors (e.g., if the server returns an error status code)\n",
    "except Exception as err:\n",
    "            print(f'Other error occurred: {err}')  # Handle other general exceptions\n",
    "else:\n",
    "            print('Success!') # If no exceptions occurred during the try block, print 'Success!'\n",
    "\n",
    "# Store DataFrame in the dictionary with \"playerId\" as the key\n",
    "player_general_database = {player_id: player_data for player_id, player_data in zip(df['name'], df.to_dict(orient='records'))}\n",
    "\n"
   ]
  },
  {
   "cell_type": "code",
   "execution_count": 11,
   "metadata": {},
   "outputs": [
    {
     "data": {
      "text/plain": [
       "{'playerId': 8475097,\n",
       " 'name': 'Brad Thiessen',\n",
       " 'position': 'G',\n",
       " 'team': 'PIT',\n",
       " 'birthDate': '1986-03-19',\n",
       " 'weight': 180.0,\n",
       " 'height': '6\\' 0\"',\n",
       " 'nationality': 'CAN',\n",
       " 'shootsCatches': 'L',\n",
       " 'primaryNumber': 35.0,\n",
       " 'primaryPosition': 'G'}"
      ]
     },
     "execution_count": 11,
     "metadata": {},
     "output_type": "execute_result"
    }
   ],
   "source": [
    "player_general_database[\"Brad Thiessen\"]"
   ]
  }
 ],
 "metadata": {
  "kernelspec": {
   "display_name": "Python 3",
   "language": "python",
   "name": "python3"
  },
  "language_info": {
   "codemirror_mode": {
    "name": "ipython",
    "version": 3
   },
   "file_extension": ".py",
   "mimetype": "text/x-python",
   "name": "python",
   "nbconvert_exporter": "python",
   "pygments_lexer": "ipython3",
   "version": "3.11.3"
  },
  "orig_nbformat": 4
 },
 "nbformat": 4,
 "nbformat_minor": 2
}
