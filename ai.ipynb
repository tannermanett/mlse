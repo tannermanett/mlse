{
 "cells": [
  {
   "cell_type": "code",
   "execution_count": 6,
   "metadata": {},
   "outputs": [
    {
     "name": "stdout",
     "output_type": "stream",
     "text": [
      "                           Date   Team            Type   \n",
      "1    Wednesday, October 6, 2021  Argos  Regular Season  \\\n",
      "5      Monday, October 11, 2021  Argos  Regular Season   \n",
      "17     Friday, October 22, 2021  Argos  Regular Season   \n",
      "28   Saturday, October 30, 2021  Argos  Regular Season   \n",
      "38   Saturday, November 6, 2021  Argos  Regular Season   \n",
      "47    Friday, November 12, 2021  Argos  Regular Season   \n",
      "51   Tuesday, November 16, 2021  Argos  Regular Season   \n",
      "467       Sunday, June 18, 2023  Argos  Regular Season   \n",
      "468       Sunday, June 25, 2023  Argos  Regular Season   \n",
      "469        Monday, July 3, 2023  Argos  Regular Season   \n",
      "470       Friday, July 14, 2023  Argos  Regular Season   \n",
      "471       Friday, July 21, 2023  Argos  Regular Season   \n",
      "472     Saturday, July 29, 2023  Argos  Regular Season   \n",
      "473      Friday, August 4, 2023  Argos  Regular Season   \n",
      "474     Sunday, August 13, 2023  Argos  Regular Season   \n",
      "\n",
      "                     Opponent Home or Away Formatted Dates  \n",
      "1                      Ottawa         Home      2021-10-06  \n",
      "5                    Hamilton         Away      2021-10-11  \n",
      "17                   Montreal         Away      2021-10-22  \n",
      "28                        B.C         Home      2021-10-30  \n",
      "38                     Ottawa         Away      2021-11-06  \n",
      "47                   Hamilton         Home      2021-11-12  \n",
      "51                   Edmonton         Home      2021-11-16  \n",
      "467       Hamilton Tiger-Cats         Home      2023-06-18  \n",
      "468             Edmonton Elks         Away      2023-06-25  \n",
      "469                  BC Lions         Home      2023-07-03  \n",
      "470        Montreal Alouettes         Away      2023-07-14  \n",
      "471       Hamilton Tiger-Cats         Away      2023-07-21  \n",
      "472  Saskatchewan Roughriders         Home      2023-07-29  \n",
      "473        Calgary Stampeders         Away      2023-08-04  \n",
      "474          Ottawa Redblacks         Home      2023-08-13  \n"
     ]
    }
   ],
   "source": [
    "import requests\n",
    "import json\n",
    "import pandas as pd\n",
    "from datetime import datetime\n",
    "\n",
    "schedule = pd.read_csv(\"C:/Users/tmanett/Desktop/All Teams Schedule.csv\") # Load in team schedule\n",
    "schedule = schedule[schedule['Team'] == 'Argos'] # Filter team to only Argos\n",
    "\n",
    "input_date = schedule['Date']\n",
    "\n",
    "# Convert the input date to the desired format\n",
    "formatted_dates = []\n",
    "for date_str in input_date:\n",
    "    date_object = datetime.strptime(date_str, \"%A, %B %d, %Y\")\n",
    "    formatted_date = date_object.strftime(\"%Y-%m-%d\")\n",
    "    formatted_dates.append(formatted_date)\n",
    "\n",
    "schedule['Formatted Dates'] = formatted_dates\n",
    "print(schedule)"
   ]
  }
 ],
 "metadata": {
  "kernelspec": {
   "display_name": "Python 3",
   "language": "python",
   "name": "python3"
  },
  "language_info": {
   "codemirror_mode": {
    "name": "ipython",
    "version": 3
   },
   "file_extension": ".py",
   "mimetype": "text/x-python",
   "name": "python",
   "nbconvert_exporter": "python",
   "pygments_lexer": "ipython3",
   "version": "3.11.3"
  },
  "orig_nbformat": 4
 },
 "nbformat": 4,
 "nbformat_minor": 2
}
