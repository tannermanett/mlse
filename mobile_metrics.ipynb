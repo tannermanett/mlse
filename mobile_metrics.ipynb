{
 "cells": [
  {
   "cell_type": "code",
   "execution_count": 1,
   "metadata": {},
   "outputs": [],
   "source": [
    "import pandas as pd\n",
    "import datetime\n",
    "import matplotlib.pyplot as plt\n",
    "import numpy as np\n",
    "import seaborn as sns"
   ]
  },
  {
   "cell_type": "markdown",
   "metadata": {},
   "source": [
    "### Data Cleaning "
   ]
  },
  {
   "cell_type": "code",
   "execution_count": 2,
   "metadata": {},
   "outputs": [
    {
     "name": "stdout",
     "output_type": "stream",
     "text": [
      "<class 'pandas.core.frame.DataFrame'>\n",
      "DatetimeIndex: 585 entries, 2022-01-01 to 2023-08-08\n",
      "Data columns (total 3 columns):\n",
      " #   Column                Non-Null Count  Dtype \n",
      "---  ------                --------------  ----- \n",
      " 0   Average Users (Raps)  585 non-null    object\n",
      " 1   Average Users (TFC)   585 non-null    object\n",
      " 2   Average Users Leafs   585 non-null    object\n",
      "dtypes: object(3)\n",
      "memory usage: 18.3+ KB\n"
     ]
    }
   ],
   "source": [
    "skip_rows = [0]  # Rows to skip (0-based index)\n",
    "\n",
    "df = pd.read_csv('C:/Users/tmanett/Desktop/Grab & Go/Mobile Apps Dashboard (TML-TR-TFC).csv', skip_blank_lines=True, skiprows=skip_rows)\n",
    "\n",
    "# Remove rows with index 366 to 368\n",
    "df = df.drop(index=range(366, 369))\n",
    "\n",
    "# Filter out rows with 'Grand Total' in 'Row Labels' column\n",
    "df = df[~df['Row Labels'].str.contains('Grand Total', na=False)]\n",
    "\n",
    "# Convert 'Row Labels' column to datetime format\n",
    "df['Row Labels'] = pd.to_datetime(df['Row Labels'])\n",
    "df.set_index('Row Labels', inplace=True)  \n",
    "\n",
    "# Convert concatenated string values to lists of numbers\n",
    "df['Average Users (Raps)'] = df['Average Users (Raps)'].apply(lambda x: [float(val) for val in x.split()])\n",
    "df['Average Users (TFC)'] = df['Average Users (TFC)'].apply(lambda x: [float(val) for val in x.split()])\n",
    "df['Average Users Leafs'] = df['Average Users Leafs'].apply(lambda x: [float(val) for val in x.split()])\n",
    "\n",
    "df.head()\n",
    "df.info()"
   ]
  },
  {
   "cell_type": "markdown",
   "metadata": {},
   "source": [
    "### Active Users Each Month by Team"
   ]
  },
  {
   "cell_type": "code",
   "execution_count": 3,
   "metadata": {},
   "outputs": [
    {
     "data": {
      "text/html": [
       "<div>\n",
       "<style scoped>\n",
       "    .dataframe tbody tr th:only-of-type {\n",
       "        vertical-align: middle;\n",
       "    }\n",
       "\n",
       "    .dataframe tbody tr th {\n",
       "        vertical-align: top;\n",
       "    }\n",
       "\n",
       "    .dataframe thead th {\n",
       "        text-align: right;\n",
       "    }\n",
       "</style>\n",
       "<table border=\"1\" class=\"dataframe\">\n",
       "  <thead>\n",
       "    <tr style=\"text-align: right;\">\n",
       "      <th></th>\n",
       "      <th>Average Users (Raps)</th>\n",
       "      <th>Average Users (TFC)</th>\n",
       "      <th>Average Users Leafs</th>\n",
       "    </tr>\n",
       "    <tr>\n",
       "      <th>Row Labels</th>\n",
       "      <th></th>\n",
       "      <th></th>\n",
       "      <th></th>\n",
       "    </tr>\n",
       "  </thead>\n",
       "  <tbody>\n",
       "    <tr>\n",
       "      <th>2022-08</th>\n",
       "      <td>1514.0</td>\n",
       "      <td>36134.000000</td>\n",
       "      <td>1201.0</td>\n",
       "    </tr>\n",
       "    <tr>\n",
       "      <th>2022-09</th>\n",
       "      <td>4071.0</td>\n",
       "      <td>22982.000000</td>\n",
       "      <td>13374.0</td>\n",
       "    </tr>\n",
       "    <tr>\n",
       "      <th>2022-10</th>\n",
       "      <td>96174.5</td>\n",
       "      <td>9115.000000</td>\n",
       "      <td>149589.0</td>\n",
       "    </tr>\n",
       "    <tr>\n",
       "      <th>2022-11</th>\n",
       "      <td>99363.0</td>\n",
       "      <td>6359.500000</td>\n",
       "      <td>166136.5</td>\n",
       "    </tr>\n",
       "    <tr>\n",
       "      <th>2022-12</th>\n",
       "      <td>168436.0</td>\n",
       "      <td>6559.000000</td>\n",
       "      <td>225276.0</td>\n",
       "    </tr>\n",
       "    <tr>\n",
       "      <th>2023-01</th>\n",
       "      <td>141503.5</td>\n",
       "      <td>6202.500000</td>\n",
       "      <td>227311.5</td>\n",
       "    </tr>\n",
       "    <tr>\n",
       "      <th>2023-02</th>\n",
       "      <td>116391.5</td>\n",
       "      <td>12930.000000</td>\n",
       "      <td>193253.0</td>\n",
       "    </tr>\n",
       "    <tr>\n",
       "      <th>2023-03</th>\n",
       "      <td>184700.5</td>\n",
       "      <td>43585.333334</td>\n",
       "      <td>287981.5</td>\n",
       "    </tr>\n",
       "    <tr>\n",
       "      <th>2023-04</th>\n",
       "      <td>66499.5</td>\n",
       "      <td>42605.000000</td>\n",
       "      <td>188079.5</td>\n",
       "    </tr>\n",
       "    <tr>\n",
       "      <th>2023-05</th>\n",
       "      <td>6033.0</td>\n",
       "      <td>46559.000000</td>\n",
       "      <td>30845.0</td>\n",
       "    </tr>\n",
       "    <tr>\n",
       "      <th>2023-06</th>\n",
       "      <td>5588.0</td>\n",
       "      <td>24042.000000</td>\n",
       "      <td>3490.0</td>\n",
       "    </tr>\n",
       "    <tr>\n",
       "      <th>2023-07</th>\n",
       "      <td>5610.0</td>\n",
       "      <td>29099.000000</td>\n",
       "      <td>5481.0</td>\n",
       "    </tr>\n",
       "  </tbody>\n",
       "</table>\n",
       "</div>"
      ],
      "text/plain": [
       "            Average Users (Raps)  Average Users (TFC)  Average Users Leafs\n",
       "Row Labels                                                                \n",
       "2022-08                   1514.0         36134.000000               1201.0\n",
       "2022-09                   4071.0         22982.000000              13374.0\n",
       "2022-10                  96174.5          9115.000000             149589.0\n",
       "2022-11                  99363.0          6359.500000             166136.5\n",
       "2022-12                 168436.0          6559.000000             225276.0\n",
       "2023-01                 141503.5          6202.500000             227311.5\n",
       "2023-02                 116391.5         12930.000000             193253.0\n",
       "2023-03                 184700.5         43585.333334             287981.5\n",
       "2023-04                  66499.5         42605.000000             188079.5\n",
       "2023-05                   6033.0         46559.000000              30845.0\n",
       "2023-06                   5588.0         24042.000000               3490.0\n",
       "2023-07                   5610.0         29099.000000               5481.0"
      ]
     },
     "execution_count": 3,
     "metadata": {},
     "output_type": "execute_result"
    }
   ],
   "source": [
    "# Filter data for the date range\n",
    "start_date = pd.Timestamp('2022-08-01')\n",
    "end_date = pd.Timestamp('2023-07-31')\n",
    "df = df.loc[start_date:end_date]\n",
    "\n",
    "# Convert the cleaned columns to appropriate numeric types\n",
    "numeric_columns = ['Average Users (Raps)', 'Average Users (TFC)', 'Average Users Leafs']\n",
    "for col in numeric_columns:\n",
    "    df[col] = df[col].apply(sum)  # Sum the list of values to get a single value\n",
    "\n",
    "# Group by month and sum the cleaned columns\n",
    "grouped_data = df.groupby(df.index.to_period('M')).sum()\n",
    "\n",
    "grouped_data"
   ]
  },
  {
   "cell_type": "code",
   "execution_count": 4,
   "metadata": {},
   "outputs": [],
   "source": [
    "csv_filename = \"mobile_metrics1.csv\"\n",
    "grouped_data.to_csv(csv_filename, index=True)"
   ]
  },
  {
   "cell_type": "markdown",
   "metadata": {},
   "source": [
    "### Bar Plot"
   ]
  },
  {
   "cell_type": "code",
   "execution_count": 9,
   "metadata": {},
   "outputs": [
    {
     "data": {
      "image/png": "[encoded data removed]",
      "text/plain": [
       "<Figure size 1000x600 with 1 Axes>"
      ]
     },
     "metadata": {},
     "output_type": "display_data"
    }
   ],
   "source": [
    "color_codes = ['#CE1141', '#848484', '#003366']\n",
    "\n",
    "# Create a grouped bar chart\n",
    "ax = grouped_data.plot(kind='bar', figsize=(10, 6), color=color_codes)\n",
    "ax.set_title('Sum of Active Users by Month (Aug. 2022 - July 2023)')\n",
    "ax.set_xlabel('Month')\n",
    "ax.set_ylabel('Average Users')\n",
    "ax.legend(title='Category')\n",
    "\n",
    "\n",
    "plt.xticks(rotation=45, ha=\"right\")  # Rotate x-axis labels for better visibility\n",
    "\n",
    "plt.tight_layout()\n",
    "plt.show()"
   ]
  },
  {
   "cell_type": "markdown",
   "metadata": {},
   "source": [
    "### Total and Average Active Users for Each Team"
   ]
  },
  {
   "cell_type": "code",
   "execution_count": 6,
   "metadata": {},
   "outputs": [
    {
     "name": "stdout",
     "output_type": "stream",
     "text": [
      "Sum of Users per Team:\n",
      "Leafs: 1492018.0\n",
      "Raps: 895884.5\n",
      "TFC: 286172.33333399997\n",
      "\n",
      "Average Users per Team:\n",
      "Leafs: 124334.83333333333\n",
      "Raps: 74657.04166666667\n",
      "TFC: 23847.694444499997\n"
     ]
    }
   ],
   "source": [
    "# Calc sums\n",
    "sum_leafs = grouped_data['Average Users Leafs'].sum()\n",
    "sum_raps = grouped_data['Average Users (Raps)'].sum()\n",
    "sum_tfc = grouped_data['Average Users (TFC)'].sum()\n",
    "\n",
    "# Calc avg\n",
    "avg_leafs = grouped_data['Average Users Leafs'].mean()\n",
    "avg_raps = grouped_data['Average Users (Raps)'].mean()\n",
    "avg_tfc = grouped_data['Average Users (TFC)'].mean()\n",
    "\n",
    "\n",
    "print(\"Sum of Users per Team:\")\n",
    "print(\"Leafs:\", sum_leafs)\n",
    "print(\"Raps:\", sum_raps)\n",
    "print(\"TFC:\", sum_tfc)\n",
    "\n",
    "print(\"\\nAverage Users per Team:\")\n",
    "print(\"Leafs:\", avg_leafs)\n",
    "print(\"Raps:\", avg_raps)\n",
    "print(\"TFC:\", avg_tfc)"
   ]
  }
 ],
 "metadata": {
  "kernelspec": {
   "display_name": "Python 3",
   "language": "python",
   "name": "python3"
  },
  "language_info": {
   "codemirror_mode": {
    "name": "ipython",
    "version": 3
   },
   "file_extension": ".py",
   "mimetype": "text/x-python",
   "name": "python",
   "nbconvert_exporter": "python",
   "pygments_lexer": "ipython3",
   "version": "3.11.3"
  },
  "orig_nbformat": 4
 },
 "nbformat": 4,
 "nbformat_minor": 2
}
